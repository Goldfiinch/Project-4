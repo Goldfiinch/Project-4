{
  "cells": [
    {
      "cell_type": "code",
      "execution_count": null,
      "metadata": {
        "colab": {
          "base_uri": "https://localhost:8080/",
          "height": 428
        },
        "id": "VcHPkxMJglG3",
        "outputId": "f65c6325-e99e-4329-8af5-974d747255fe"
      },
      "outputs": [],
      "source": [
        "!apt-get update # Update apt-get repository.\n",
        "!apt-get install openjdk-8-jdk-headless -qq > /dev/null # Install Java.\n",
        "!wget -q http://archive.apache.org/dist/spark/spark-3.1.1/spark-3.1.1-bin-hadoop3.2.tgz # Download Apache Sparks.\n",
        "!tar xf spark-3.1.1-bin-hadoop3.2.tgz # Unzip the tgz file.\n",
        "!pip install -q findspark # Install findspark. Adds PySpark to the System path during runtime.\n",
        "\n",
        "# Set environment variables\n",
        "import os\n",
        "os.environ[\"JAVA_HOME\"] = \"/usr/lib/jvm/java-8-openjdk-amd64\"\n",
        "os.environ[\"SPARK_HOME\"] = \"/content/spark-3.1.1-bin-hadoop3.2\"\n",
        "\n",
        "# Initialize findspark\n",
        "import findspark\n",
        "findspark.init()\n",
        "\n",
        "# Create a PySpark session\n",
        "from pyspark.sql import SparkSession\n",
        "spark = SparkSession.builder.master(\"local[*]\").getOrCreate()"
      ]
    },
    {
      "cell_type": "code",
      "execution_count": null,
      "metadata": {
        "colab": {
          "base_uri": "https://localhost:8080/",
          "height": 424
        },
        "id": "yqQ_yfgkh1VQ",
        "outputId": "9bacd2c7-8fb7-46d0-9d6a-0a9b790c0d9b"
      },
      "outputs": [],
      "source": [
        "# Import CSV files into spark DataFrame.\n",
        "spy_spark_df = spark.read.csv(\"SPY.csv\")\n",
        "vix_spark_df = spark.read.csv(\"VIX.csv\")\n",
        "\n",
        "# Convert to Pandas DataFrame for cleaning.\n",
        "import pandas as pd\n",
        "spy_df = spy_spark_df.toPandas()\n",
        "vix_df = vix_spark_df.toPandas()"
      ]
    },
    {
      "cell_type": "code",
      "execution_count": null,
      "metadata": {
        "id": "RXCVDN4cRlKW"
      },
      "outputs": [],
      "source": [
        "# Drop unnecessary columns.\n",
        "vix_df = vix_df.drop(columns=['_c1', '_c2', '_c3', '_c5', '_c6'])\n",
        "\n",
        "# Rename columns and drop index numbers.\n",
        "spy_df = spy_df.rename(columns={\"_c0\": \"Date\", \"_c1\": \"Open\", \"_c2\": \"High\", \"_c3\": \"Low\", \"_c4\": \"Close\", \"_c5\": \"Adj Close\", \"_c6\": \"Volume\"})\n",
        "spy_df = spy_df.drop([0])\n",
        "\n",
        "vix_df = vix_df.rename(columns={\"_c0\": \"Date\", \"_c4\": \"VIX\"})\n",
        "vix_df = vix_df.drop([0])"
      ]
    },
    {
      "cell_type": "code",
      "execution_count": null,
      "metadata": {
        "colab": {
          "base_uri": "https://localhost:8080/",
          "height": 238
        },
        "id": "YTZRKtPbZdE-",
        "outputId": "246b6cdf-5a93-473b-c76c-cea983e0b6af"
      },
      "outputs": [],
      "source": [
        "# Merge the SPY and VIX DataFrames.\n",
        "combined_df = pd.merge(spy_df, vix_df, how='outer', on='Date')\n",
        "\n",
        "# Set Date column as the dataframe index.\n",
        "combined_df['Date'] = pd.to_datetime(combined_df['Date'])\n",
        "combined_df.set_index('Date', inplace=True)\n",
        "\n",
        "# Convert data in columns from objects to numeric.\n",
        "for col in combined_df.columns:\n",
        "    combined_df[col] = pd.to_numeric(combined_df[col], errors='ignore')\n",
        "\n",
        "# Dropping last column because it contains a NA value.\n",
        "combined_df = combined_df[:-1]\n",
        "\n",
        "# Reducing the number size of the volume data to help the model run faster.\n",
        "combined_df[\"Volume\"] = combined_df[\"Volume\"].div(1000000)\n",
        "combined_df[\"Volume\"] = combined_df[\"Volume\"].round(1)\n",
        "\n",
        "combined_df.head()"
      ]
    },
    {
      "cell_type": "code",
      "execution_count": null,
      "metadata": {
        "colab": {
          "base_uri": "https://localhost:8080/",
          "height": 238
        },
        "id": "SG5tOu4rAjRi",
        "outputId": "04497771-1f6b-4772-8e7f-12a6a6d309c8"
      },
      "outputs": [],
      "source": [
        "# Create \"SPY Tomorrow\" column and \"Target\" column.\n",
        "combined_df[\"SPY Tomorrow\"] = combined_df[\"Adj Close\"].shift(-1)\n",
        "combined_df[\"Target\"] = (combined_df[\"SPY Tomorrow\"] > combined_df[\"Adj Close\"]).astype(int)\n",
        "\n",
        "combined_df.head()"
      ]
    },
    {
      "cell_type": "code",
      "execution_count": null,
      "metadata": {
        "id": "zQgbLPznXZaf"
      },
      "outputs": [],
      "source": [
        "# Reduced the data's time range.\n",
        "combined_df = combined_df.loc[\"2000-01-01\":].copy()"
      ]
    },
    {
      "cell_type": "code",
      "execution_count": null,
      "metadata": {
        "colab": {
          "base_uri": "https://localhost:8080/",
          "height": 75
        },
        "id": "sKRtNtUA0L3l",
        "outputId": "60fa42ad-1846-4bcf-d0c0-4981d6722cf9"
      },
      "outputs": [],
      "source": [
        "# Create Model.\n",
        "from sklearn.ensemble import RandomForestClassifier\n",
        "model = RandomForestClassifier(n_estimators=100, min_samples_split=100, random_state=1)\n",
        "\n",
        "# Test Train Split\n",
        "train = combined_df.iloc[:-250]  # Training data\n",
        "test = combined_df.iloc[-250:]   # Test data\n",
        "\n",
        "# Creating a list of predictors.\n",
        "predictors = [\"Open\", \"High\", \"Low\", \"Close\", \"Adj Close\", \"Volume\", \"VIX\"]\n",
        "\n",
        "# Fit the model.\n",
        "model.fit(train[predictors], train[\"Target\"])"
      ]
    },
    {
      "cell_type": "code",
      "execution_count": null,
      "metadata": {
        "colab": {
          "base_uri": "https://localhost:8080/"
        },
        "id": "Vn_q273wdpt7",
        "outputId": "1ae3a92e-41e1-4943-c3b3-5f2e9194c03a"
      },
      "outputs": [],
      "source": [
        "# Calculate precision accuracy score.\n",
        "from sklearn.metrics import precision_score\n",
        "\n",
        "preds = model.predict(test[predictors])\n",
        "preds = pd.Series(preds, index=test.index)\n",
        "\n",
        "precision_score(test[\"Target\"], preds)"
      ]
    },
    {
      "cell_type": "code",
      "execution_count": null,
      "metadata": {
        "colab": {
          "base_uri": "https://localhost:8080/",
          "height": 666
        },
        "id": "0zH5Ul4PJ07X",
        "outputId": "dcf38af7-4625-45b8-cdc9-5be97f11c243"
      },
      "outputs": [],
      "source": [
        "#Lag Features & SMA\n",
        "lag_features = ['Adj Close']\n",
        "lags = range(1, 4)  # for example, create lags for 1, 2, and 3 days\n",
        "for lag in lags:\n",
        "  combined_df[f'Adj Close Lag {lag}'] = combined_df['Adj Close'].shift(lag)\n",
        "\n",
        "# Add a simple moving average (SMA) for 'Adj Close'\n",
        "window = 5  # 5-day SMA\n",
        "combined_df['SMA 5'] = combined_df['Adj Close'].rolling(window=window).mean()\n",
        "\n",
        "# Handle missing values introduced by lag and SMA features\n",
        "combined_df.dropna(inplace=True)"
      ]
    },
    {
      "cell_type": "code",
      "execution_count": null,
      "metadata": {
        "colab": {
          "base_uri": "https://localhost:8080/",
          "height": 75
        },
        "id": "nACO5e0vYGyA",
        "outputId": "4de2b775-6074-4435-cfc7-3046237d891c"
      },
      "outputs": [],
      "source": [
        "#Create a new Model.\n",
        "model_1 = RandomForestClassifier(n_estimators=100, min_samples_split=100, random_state=1)\n",
        "\n",
        "# Test Train Split\n",
        "train_1 = combined_df.iloc[:-250]  # Training data\n",
        "test_1 = combined_df.iloc[-250:]   # Test data\n",
        "\n",
        "# Updating list of predictors.\n",
        "predictors_1 = [\"High\", \"Low\", \"Adj Close\", \"Volume\", \"VIX\", \"Adj Close Lag 1\", \"Adj Close Lag 2\", \"Adj Close Lag 3\", \"SMA 5\"]\n",
        "\n",
        "# Fit the optimized model\n",
        "model_1.fit(train_1[predictors_1], train_1[\"Target\"])"
      ]
    },
    {
      "cell_type": "code",
      "execution_count": null,
      "metadata": {
        "colab": {
          "base_uri": "https://localhost:8080/"
        },
        "id": "jSkMDy5haVd0",
        "outputId": "bb46fa01-753e-4b13-e360-39bb7a0e496d"
      },
      "outputs": [],
      "source": [
        "# Recalculate precision accuracy score.\n",
        "preds_1 = model_1.predict(test_1[predictors_1])\n",
        "preds_1 = pd.Series(preds_1, index=test_1.index)\n",
        "\n",
        "precision_score(test_1[\"Target\"], preds_1)"
      ]
    },
    {
      "cell_type": "code",
      "execution_count": null,
      "metadata": {
        "id": "JBF1Y4jBY0zP"
      },
      "outputs": [],
      "source": [
        "# Import CSV files into spark DataFrame\n",
        "tnx_spark_df = spark.read.csv(\"TNX.csv\")\n",
        "\n",
        "# Convert to Pandas dataframe for cleaning\n",
        "tnx_df = tnx_spark_df.toPandas()\n",
        "tnx_df = tnx_df.drop(columns=['_c1', '_c2', '_c3', '_c5', '_c6'])\n",
        "\n",
        "# Rename columns\n",
        "tnx_df = tnx_df.rename(columns={\"_c0\": \"Date\", \"_c4\": \"10-Y Treasury\"})\n",
        "tnx_df = tnx_df.drop([0])\n",
        "\n",
        "# Convert \"Date\" column to datetime and set as index.\n",
        "tnx_df['Date'] = pd.to_datetime(tnx_df['Date'])\n",
        "tnx_df.set_index('Date', inplace=True)\n",
        "\n",
        "# Convert all other columns to numeric.\n",
        "for col in tnx_df.columns:\n",
        "     tnx_df[col] = pd.to_numeric(tnx_df[col], errors='ignore')"
      ]
    },
    {
      "cell_type": "code",
      "execution_count": null,
      "metadata": {
        "colab": {
          "base_uri": "https://localhost:8080/"
        },
        "id": "7h7DG_yTZJhy",
        "outputId": "cc385183-38e2-439a-fb90-0e6c99ca6a69"
      },
      "outputs": [],
      "source": [
        "# Merged the tnx_df with the combined_df\n",
        "combined_df = pd.merge(combined_df, tnx_df, how = \"outer\", on = \"Date\")\n",
        "combined_df = combined_df[:-1]\n",
        "combined_df = combined_df.loc[\"2000-01-01\":].copy()\n",
        "combined_df = combined_df.dropna()"
      ]
    },
    {
      "cell_type": "code",
      "execution_count": null,
      "metadata": {
        "colab": {
          "base_uri": "https://localhost:8080/",
          "height": 75
        },
        "id": "vpS7MGtBhuIO",
        "outputId": "bd49cc1d-1b92-43b0-d4f8-bbfcd66cb716"
      },
      "outputs": [],
      "source": [
        "#Create a new Model.\n",
        "model_2 = RandomForestClassifier(n_estimators=100, min_samples_split=100, random_state=1)\n",
        "\n",
        "# Test Train Split\n",
        "train_2 = combined_df.iloc[:-250]  # Training data\n",
        "test_2 = combined_df.iloc[-250:]   # Test data\n",
        "\n",
        "# Updating list of predictors.\n",
        "predictors_2 = [\"High\", \"Low\", \"Adj Close\", \"Volume\", \"VIX\", \"Adj Close Lag 1\", \"Adj Close Lag 2\", \"Adj Close Lag 3\", \"SMA 5\", \"10-Y Treasury\"]\n",
        "\n",
        "# Fit the optimized model\n",
        "model_2.fit(train_2[predictors_2], train_2[\"Target\"])"
      ]
    },
    {
      "cell_type": "code",
      "execution_count": null,
      "metadata": {
        "colab": {
          "base_uri": "https://localhost:8080/"
        },
        "id": "KXezt9U4hxh6",
        "outputId": "8da3bdf0-09d2-43e5-e50d-5f7788364314"
      },
      "outputs": [],
      "source": [
        "# Recalculate precision accuracy score.\n",
        "preds_2 = model_2.predict(test_2[predictors_2])\n",
        "preds_2 = pd.Series(preds_2, index=test_2.index)\n",
        "\n",
        "precision_score(test_2[\"Target\"], preds_2)"
      ]
    },
    {
      "cell_type": "code",
      "execution_count": null,
      "metadata": {
        "colab": {
          "base_uri": "https://localhost:8080/",
          "height": 466
        },
        "id": "iPrseGE8p_Ym",
        "outputId": "89a73854-addd-4b52-fea1-344e0db6daf7"
      },
      "outputs": [],
      "source": [
        "# Create plot to visualize the different indexes.\n",
        "combined_df.plot.line(y=['Adj Close','VIX', '10-Y Treasury'], use_index=True)"
      ]
    }
  ],
  "metadata": {
    "colab": {
      "provenance": []
    },
    "kernelspec": {
      "display_name": "Python 3",
      "name": "python3"
    },
    "language_info": {
      "codemirror_mode": {
        "name": "ipython",
        "version": 3
      },
      "file_extension": ".py",
      "mimetype": "text/x-python",
      "name": "python",
      "nbconvert_exporter": "python",
      "pygments_lexer": "ipython3",
      "version": "3.10.13"
    }
  },
  "nbformat": 4,
  "nbformat_minor": 0
}
